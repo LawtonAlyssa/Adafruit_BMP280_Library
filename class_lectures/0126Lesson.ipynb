{
  "nbformat": 4,
  "nbformat_minor": 0,
  "metadata": {
    "colab": {
      "name": "0126Lesson.ipynb",
      "provenance": [],
      "include_colab_link": true
    },
    "kernelspec": {
      "name": "python3",
      "display_name": "Python 3"
    },
    "language_info": {
      "name": "python"
    }
  },
  "cells": [
    {
      "cell_type": "markdown",
      "metadata": {
        "id": "view-in-github",
        "colab_type": "text"
      },
      "source": [
        "<a href=\"https://colab.research.google.com/github/LawtonAlyssa/Adafruit_BMP280_Library/blob/master/class_lectures/0126Lesson.ipynb\" target=\"_parent\"><img src=\"https://colab.research.google.com/assets/colab-badge.svg\" alt=\"Open In Colab\"/></a>"
      ]
    },
    {
      "cell_type": "markdown",
      "source": [
        "# Course matters\n",
        "\n",
        "* **Exam 1** scheduled for 2/10, but we used an extra day for Ch 2, which moves the exam to 2/14 (♥)\n",
        " * Might even be 2/16\n",
        "\n",
        "* Q&A due Saturday\n",
        "  * No 'insignificant' questions"
      ],
      "metadata": {
        "id": "SqMu7fc8bRla"
      }
    },
    {
      "cell_type": "markdown",
      "source": [
        "# Probability"
      ],
      "metadata": {
        "id": "l6PXhtDjYlVs"
      }
    },
    {
      "cell_type": "markdown",
      "source": [
        "Topics:\n",
        "* Motivation:\n",
        " * Too unlikely?\n",
        "\n",
        "* RVs\n",
        " * Binomial\n",
        "\n",
        "* Conditional probability\n",
        " * Monty Hall\n",
        "\n",
        "* Bayes"
      ],
      "metadata": {
        "id": "BHwyp4-kYm69"
      }
    },
    {
      "cell_type": "markdown",
      "source": [
        "Probability is the foundation of stats. For instance\n",
        "\n",
        "* If I ask 10 randomly selected HPU students if they love donuts and all 10 say 'yes', should I believe that 100% of HPU students love donuts? 99%? 90%?\n",
        "\n",
        "* If a street performer as part of the performer's act flips 10 consecutive heads. Should I believe that coin is fair?\n",
        "\n",
        "* If 100 groups of 40 people are randomly selected, in how many of them should there there be (at least) two people who share a birthday?\n",
        "\n"
      ],
      "metadata": {
        "id": "D57rGljTY5BP"
      }
    },
    {
      "cell_type": "markdown",
      "source": [
        "We'll use Python to compute most probabilities. \n",
        "* sometimes directly/theoretically\n",
        "* sometimes via *simulation*\n",
        " * we already saw simulation the 0112 lesson where we made 400 sames of 3 and 30 individuals to see why sample variance had $n-1$ in the denominator."
      ],
      "metadata": {
        "id": "q_AY6QwsfkX5"
      }
    },
    {
      "cell_type": "code",
      "source": [
        "import numpy as np\n",
        "from numpy.random import default_rng\n",
        "rng = default_rng()"
      ],
      "metadata": {
        "id": "JiHHpz0EfznN"
      },
      "execution_count": null,
      "outputs": []
    },
    {
      "cell_type": "code",
      "source": [
        "rfloat = rng.random()\n",
        "print(rfloat)"
      ],
      "metadata": {
        "colab": {
          "base_uri": "https://localhost:8080/"
        },
        "id": "jpqS54P3grYY",
        "outputId": "deafb8a1-d663-4ac2-bc6d-126074832e75"
      },
      "execution_count": null,
      "outputs": [
        {
          "output_type": "stream",
          "name": "stdout",
          "text": [
            "0.22733602246716966\n"
          ]
        }
      ]
    },
    {
      "cell_type": "code",
      "source": [
        "# import numpy as np\n",
        "import scipy.stats"
      ],
      "metadata": {
        "id": "glrFuoEqk0EG"
      },
      "execution_count": null,
      "outputs": []
    },
    {
      "cell_type": "markdown",
      "source": [
        "A **random variable (RV)** is a variable, $X$, who's value is generated randomly according to some specific probabilities.\n",
        "\n",
        "Example. A **binomial RV**, $X$ with parameters $n$ and $p$ takes the values $k=0,1,\\ldots,n$ with probabilities\n",
        "\\begin{align*}\n",
        "P(X=k) &= \\binom{n}{k}p^{k}(1-p)^{n-k} \\\\\n",
        "       &= \\frac{n!}{k!(n-k)!}p^{k}(1-p)^{n-k}\n",
        "\\end{align*}\n",
        "\n",
        "Models repeating a 2-outcome experiment n times, independently and recording the number of 'successes' which have probability $p$."
      ],
      "metadata": {
        "id": "dR8tAX7hpDpw"
      }
    },
    {
      "cell_type": "markdown",
      "source": [
        "\n",
        "\n",
        "E.g. a coin is flipped 10 times, what's the probability of\n",
        "\n",
        "* exactly 7 H's\n",
        "* at least 7 H's\n",
        "\n",
        "Here, $n=10$, $p=0.5$. Note that this is the exact same question as\n",
        "\n",
        "A family has 10 children, what's the probability of\n",
        "* exactly 7 females\n",
        "* at least 7 females.\n"
      ],
      "metadata": {
        "id": "Op3m7WunSGdE"
      }
    },
    {
      "cell_type": "markdown",
      "source": [
        "\n",
        "Solution.\n",
        "\n",
        "1. Theoretically/directy by hand:\n",
        "* exactly 7:\n",
        "$$\n",
        "\\frac{10!}{7!3!}0.5^{7}0.5^{3} = \\frac{120}{1024}\n",
        "$$\n",
        "\n",
        "* at least 7: do same for exactly 7, exactly 8, exactly 9, & exactly 10 and add the results."
      ],
      "metadata": {
        "id": "2rXEmLETSIAy"
      }
    },
    {
      "cell_type": "markdown",
      "source": [
        "2. Theoretically/directy via Scipy's binomial\n",
        "* exactly 7"
      ],
      "metadata": {
        "id": "S8sVRbIbSKys"
      }
    },
    {
      "cell_type": "code",
      "source": [
        "print(scipy.stats.binom(10,0.5).pmf(7))\n",
        "print(120/1024)"
      ],
      "metadata": {
        "colab": {
          "base_uri": "https://localhost:8080/"
        },
        "id": "bX66MoqWJNZj",
        "outputId": "e643b447-b04d-407f-c5c2-7b9d33421c67"
      },
      "execution_count": null,
      "outputs": [
        {
          "output_type": "stream",
          "name": "stdout",
          "text": [
            "0.11718750000000014\n",
            "0.1171875\n"
          ]
        }
      ]
    },
    {
      "cell_type": "markdown",
      "source": [
        "* at least 7:"
      ],
      "metadata": {
        "id": "MUmyWN1kT0hR"
      }
    },
    {
      "cell_type": "code",
      "source": [
        "total_prob = 0\n",
        "for k in range(7,11):\n",
        "  total_prob += scipy.stats.binom(10,0.5).pmf(k)\n",
        "print(total_prob)"
      ],
      "metadata": {
        "colab": {
          "base_uri": "https://localhost:8080/"
        },
        "id": "FKpKE0jCT1lC",
        "outputId": "b4e943ae-9ec2-4217-fcec-73c92d84920c"
      },
      "execution_count": null,
      "outputs": [
        {
          "output_type": "stream",
          "name": "stdout",
          "text": [
            "0.17187500000000014\n"
          ]
        }
      ]
    },
    {
      "cell_type": "markdown",
      "source": [
        "Even better:"
      ],
      "metadata": {
        "id": "aKoz29JRUnxv"
      }
    },
    {
      "cell_type": "code",
      "source": [
        "1-scipy.stats.binom(10,0.5).cdf(6)"
      ],
      "metadata": {
        "colab": {
          "base_uri": "https://localhost:8080/"
        },
        "id": "zWn86658UsC4",
        "outputId": "dc74d653-36bb-40fa-d6e0-0e191df207c1"
      },
      "execution_count": null,
      "outputs": [
        {
          "output_type": "execute_result",
          "data": {
            "text/plain": [
              "0.171875"
            ]
          },
          "metadata": {},
          "execution_count": 23
        }
      ]
    },
    {
      "cell_type": "markdown",
      "source": [
        "We used this to determine what `range` outputs:"
      ],
      "metadata": {
        "id": "cD1nCLFWVfgu"
      }
    },
    {
      "cell_type": "code",
      "source": [
        "list(range(7,11))"
      ],
      "metadata": {
        "colab": {
          "base_uri": "https://localhost:8080/"
        },
        "id": "uB2fAIF-UKdm",
        "outputId": "d51fdda4-86da-4e4c-b9da-8039a802374e"
      },
      "execution_count": null,
      "outputs": [
        {
          "output_type": "execute_result",
          "data": {
            "text/plain": [
              "[7, 8, 9, 10]"
            ]
          },
          "metadata": {},
          "execution_count": 18
        }
      ]
    },
    {
      "cell_type": "markdown",
      "source": [
        "Question was asked: what if it's the probability that 6-sided die, rolled 10 times, yields at least 7 2's?\n",
        "\n",
        "That's *still* binomial, with $n=7$, $p=1/6$."
      ],
      "metadata": {
        "id": "qOl-OCC0Vo2O"
      }
    },
    {
      "cell_type": "code",
      "source": [
        "1-scipy.stats.binom(10,1/6).cdf(6)"
      ],
      "metadata": {
        "colab": {
          "base_uri": "https://localhost:8080/"
        },
        "outputId": "853e2a7e-831e-4981-8c4c-518f97d097a0",
        "id": "D4onDWwzWAqU"
      },
      "execution_count": null,
      "outputs": [
        {
          "output_type": "execute_result",
          "data": {
            "text/plain": [
              "0.0002675214652237967"
            ]
          },
          "metadata": {},
          "execution_count": 24
        }
      ]
    },
    {
      "cell_type": "markdown",
      "source": [
        "\n",
        "3. Simulation\n",
        "* exactly 7:"
      ],
      "metadata": {
        "id": "IaSKpIa2S_a8"
      }
    },
    {
      "cell_type": "code",
      "source": [
        "trials=1000000\n",
        "num_sevens = 0\n",
        "for _ in range(trials):\n",
        "  if np.sum(rng.integers(2,size=10)) == 7:\n",
        "    num_sevens +=1\n",
        "num_sevens/trials\n"
      ],
      "metadata": {
        "colab": {
          "base_uri": "https://localhost:8080/"
        },
        "id": "X6fPQT01WHS-",
        "outputId": "7b1e2549-d4c4-4cf3-f000-6ae14a19f3fd"
      },
      "execution_count": null,
      "outputs": [
        {
          "output_type": "execute_result",
          "data": {
            "text/plain": [
              "0.117389"
            ]
          },
          "metadata": {},
          "execution_count": 57
        }
      ]
    },
    {
      "cell_type": "markdown",
      "source": [
        "## Cond. probability\n"
      ],
      "metadata": {
        "id": "G6nrYJJWscZ7"
      }
    },
    {
      "cell_type": "markdown",
      "source": [
        "Conditional probability is the probability of something happening GIVEN some extra information."
      ],
      "metadata": {
        "id": "29f4ACB_aTjd"
      }
    },
    {
      "cell_type": "markdown",
      "source": [
        "Example: Suppose I roll a fair die twice. What's the probability that the first roll was a 4 given that sum of the two rolls was\n",
        "* 6\n",
        "* 7"
      ],
      "metadata": {
        "id": "8B1TI_zbaZLd"
      }
    },
    {
      "cell_type": "markdown",
      "source": [
        "Solution. Here's a table of all possible sums\n",
        "\n",
        "|Roll 1 $\\rightarrow$ |1|2|3|4|5|6\n",
        "|-|-|-|-|-|-|-\n",
        "|Roll 2 $\\downarrow$||||\n",
        "|1|2|3|4|5|6|7\n",
        "|2|3|4|5|6|7|8\n",
        "|3|4|5|6|7|8|9\n",
        "|4|5|6|7|8|9|10\n",
        "|5|6|7|8|9|10|11\n",
        "|6|7|8|9|10|11|12\n",
        "\n",
        "* 6:\n",
        " * P(1st is 4|sum is 6)=1/5 because 2nd 6 isn't possible if we know the sum is 6.\n",
        "* 7: \n",
        " * P(1st is 4|sum is 7) 1/6 because nothing is ruled out; knowing that the is 7 doesn't change the probability that 1st is 4."
      ],
      "metadata": {
        "id": "IjakMk2EbAKF"
      }
    },
    {
      "cell_type": "markdown",
      "source": [
        "Note that the definition of **independence** is this: A is independet of B if being given A doesn't change the probability of B (or vice-versa).\n",
        "\n",
        "So above we concluded that \"1st is 4\" is not independent of \"sum is 6\". .But \"1st is 4\" is independent of \"sum is 7\"."
      ],
      "metadata": {
        "id": "_e-n8QDec0_2"
      }
    },
    {
      "cell_type": "markdown",
      "source": [
        "Monty Hall problem:\n",
        "You're on a gameshow with three doors, behind two of which is a goat and behind the third is a car. You pick a door and then the host reveals a goat not behind your door. Now you have the option to switch to the other unknown door. Should you?"
      ],
      "metadata": {
        "id": "dSl6BoyldVf4"
      }
    },
    {
      "cell_type": "markdown",
      "source": [
        "\n",
        "\n",
        "## Bayes\n",
        "\n",
        "|Driver type|% of drivers|prob. of collision|\n",
        "|---|--|--\n",
        "|Teen|8|0.15\n",
        "|Young adult| 16|0.08\n",
        "|Midlife| 45| 0.04\n",
        "|Senior| 31| 0.05\n",
        "\n",
        "* a. If a driver is selected at random, what's the prob of an accident?\n",
        "* b. If a driver is in an accident, what's the prob it was a teen?"
      ],
      "metadata": {
        "id": "khUmGdR2aSok"
      }
    },
    {
      "cell_type": "markdown",
      "source": [
        "![test](https://docs.google.com/drawings/d/e/2PACX-1vRX-0_CvFemeOa1z0uCAYY_irewvQjoYQB4gD_xfWnwrf3BNC3DH_oqXqoO_dbvl6cnKQc3OM4yXIl9/pub?w=480&h=360)"
      ],
      "metadata": {
        "id": "Qt1aHdoPyoCe"
      }
    },
    {
      "cell_type": "markdown",
      "source": [
        ""
      ],
      "metadata": {
        "id": "yUTxUXzJz8tx"
      }
    }
  ]
}